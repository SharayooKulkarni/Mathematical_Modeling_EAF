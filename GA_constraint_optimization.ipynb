{
 "cells": [
  {
   "cell_type": "code",
   "execution_count": 1,
   "metadata": {},
   "outputs": [],
   "source": [
    "import pandas as pd\n",
    "import numpy as np\n",
    "import os\n",
    "import time\n",
    "import matplotlib.pyplot as plt\n",
    "import random"
   ]
  },
  {
   "cell_type": "code",
   "execution_count": 2,
   "metadata": {},
   "outputs": [
    {
     "data": {
      "text/plain": [
       "(array([361.,   0.,   0.,   0.,   0.,   0.,   0.,   0.,   0.,   1.]),\n",
       " array([   0.   ,  808.381, 1616.762, 2425.143, 3233.524, 4041.905,\n",
       "        4850.286, 5658.667, 6467.048, 7275.429, 8083.81 ]),\n",
       " <a list of 10 Patch objects>)"
      ]
     },
     "execution_count": 2,
     "metadata": {},
     "output_type": "execute_result"
    },
    {
     "data": {
      "image/png": "[encoded data removed]",
      "text/plain": [
       "<Figure size 432x288 with 1 Axes>"
      ]
     },
     "metadata": {
      "needs_background": "light"
     },
     "output_type": "display_data"
    }
   ],
   "source": [
    "df =pd.read_csv(\"/home/sharayoo/Desktop/wynum/EAF/predictive_model_data/selectedFeatures_rev3.csv\")\n",
    "plt.hist(df[\"Mn Ore_MT\"],10)\n",
    "#for i in range(18):\n",
    " #   plt.figure()\n",
    "  #  plt.hist(df.iloc[:,i],10)"
   ]
  },
  {
   "cell_type": "code",
   "execution_count": 3,
   "metadata": {},
   "outputs": [],
   "source": [
    "fx_true = df.iloc[:,0]"
   ]
  },
  {
   "cell_type": "code",
   "execution_count": 4,
   "metadata": {},
   "outputs": [],
   "source": [
    "X = df.iloc[:,1:19]\n"
   ]
  },
  {
   "cell_type": "code",
   "execution_count": 5,
   "metadata": {},
   "outputs": [],
   "source": [
    "mean_X =np.mean(X)\n",
    "std_X = np.std(X)\n"
   ]
  },
  {
   "cell_type": "code",
   "execution_count": 6,
   "metadata": {},
   "outputs": [],
   "source": [
    "#for x in range(18):\n",
    " #   print (random.randint(0,1))\n",
    "popSize = 100    \n",
    "population = np.random.rand(popSize,18)\n",
    "population.shape\n",
    "T=std_X.T\n",
    "#np.multiply,std_x_T)\n",
    "df_mat = np.array(mean_X)+population * np.array(std_X)\n"
   ]
  },
  {
   "cell_type": "code",
   "execution_count": 7,
   "metadata": {},
   "outputs": [],
   "source": [
    "w = np.array([-4.92884993e-01,  6.99394572e-02,  3.67148268e+00,  3.24945676e+01,\n",
    "        7.77427622e+01,  5.23286360e-01, -2.00742301e+01,  1.74258824e+00,\n",
    "       -6.95108971e+01,  7.80016251e-01, -8.92767083e+01,  4.09713709e+00,\n",
    "       -4.91180953e+00,  5.45802342e+03, -1.64687710e-01,  6.65157946e+00,\n",
    "       -5.72957154e-01,  1.16412825e+01])"
   ]
  },
  {
   "cell_type": "code",
   "execution_count": 8,
   "metadata": {
    "scrolled": true
   },
   "outputs": [
    {
     "data": {
      "text/plain": [
       "array([4.99036621e+02, 4.12203036e+02, 4.17857875e+02, 1.06512226e+02,\n",
       "       2.81890706e+00, 1.03940169e+02, 5.08050402e+01, 4.05884123e+02,\n",
       "       1.17104771e+01, 6.45278045e+01, 1.57700256e+00, 8.58103796e+02,\n",
       "       8.67682500e+02, 2.00802626e-01, 2.34867636e+03, 7.20894215e+01,\n",
       "       2.88821485e+02, 1.00856656e+01])"
      ]
     },
     "execution_count": 8,
     "metadata": {},
     "output_type": "execute_result"
    }
   ],
   "source": [
    "df_mat[0]"
   ]
  },
  {
   "cell_type": "code",
   "execution_count": 9,
   "metadata": {},
   "outputs": [],
   "source": [
    "\n",
    "#X_high = []\n",
    "X_high = mean_X +(2 * std_X)\n",
    "#print(X_high)\n",
    "X_low = mean_X - (2 * std_X)\n",
    "\n",
    "X_low = np.array(X_low)\n",
    "X_high = np.array(X_high)\n",
    "#print(X_low)\n",
    "X_low_new = np.where(X_low <= 0, 0,X_low) \n",
    "\n",
    "def fx(X):\n",
    "    obj_func = []\n",
    "    CV_arr = []\n",
    "    #fx_pred_new = []\n",
    "    for i in range(len(X)):\n",
    "        CV=0\n",
    "        for j in range(np.shape(X)[1]):\n",
    "            if (X[i][j] <= X_high[j]) and (X[i][j] >= X_low[j]):\n",
    "                CV = CV+0\n",
    "            else:\n",
    "                CV = CV + 1\n",
    "        CV_arr.append(CV)\n",
    "        obj_func.append(np.sum(w.T * X[i])+ 100 * CV)\n",
    "    return obj_func,CV_arr\n",
    "        "
   ]
  },
  {
   "cell_type": "code",
   "execution_count": 10,
   "metadata": {},
   "outputs": [],
   "source": [
    "fx_pred_new,CV=fx(df_mat)\n"
   ]
  },
  {
   "cell_type": "code",
   "execution_count": 67,
   "metadata": {},
   "outputs": [],
   "source": [
    "\"\"\"Selection\"\"\"\n",
    "select_x1 = []\n",
    "for i in range(popSize):\n",
    "    selectId = np.random.choice(popSize,2)\n",
    "    if CV[selectId[0]] == CV[selectId[1]]:\n",
    "        if fx_pred_new[selectId[0]] < fx_pred_new[selectId[1]]:\n",
    "            select_x1.append(df_mat[selectId[0]])\n",
    "        else:\n",
    "            select_x1.append(df_mat[selectId[1]])\n",
    "            \n",
    "    elif CV[selectId[0]] < CV[selectId[1]]:\n",
    "        select_x1.append(CV[selectId[0]])\n",
    "    else :\n",
    "        select_x1.append(CV[selectId[1]])\n",
    "        \n",
    "        "
   ]
  },
  {
   "cell_type": "code",
   "execution_count": 68,
   "metadata": {},
   "outputs": [
    {
     "data": {
      "text/plain": [
       "(100, 18)"
      ]
     },
     "execution_count": 68,
     "metadata": {},
     "output_type": "execute_result"
    }
   ],
   "source": [
    "select_x1 = np.array(select_x1)\n",
    "select_x1.shape"
   ]
  },
  {
   "cell_type": "code",
   "execution_count": 78,
   "metadata": {},
   "outputs": [],
   "source": [
    "select_x2 = []\n",
    "for i in range(popSize):\n",
    "    selectId = np.random.choice(popSize,2)\n",
    "    if CV[selectId[0]] == CV[selectId[1]]:\n",
    "        if fx_pred_new[selectId[0]] < fx_pred_new[selectId[1]]:\n",
    "            select_x2.append(df_mat[selectId[0]])\n",
    "        else:\n",
    "            select_x2.append(df_mat[selectId[1]])\n",
    "    elif CV[selectId[0]] < CV[selectId[1]]:\n",
    "        select_x2.append(CV[selectId[0]])\n",
    "    else :\n",
    "        select_x2.append(CV[selectId[1]])        "
   ]
  },
  {
   "cell_type": "code",
   "execution_count": 70,
   "metadata": {},
   "outputs": [],
   "source": [
    "\"\"\"Cross-over\"\"\"\n",
    "\"\"\"\n",
    "cross-over one example\n",
    "\n",
    "p1 = np.random.randint(2,16)\n",
    "#print(p1)\n",
    "x1_arr = np.split(select_x1[1], [p1])\n",
    "x2_arr = np.split(select_x2[1],[p1])\n",
    "X10_X21 = np.concatenate((x1_arr[0],x2_arr[1]),axis = 0)\n",
    "X20_X11 = np.concatenate((x2_arr[0],x1_arr[1]),axis = 0)\n",
    "\n",
    "\"\"\"\n",
    "child = []\n",
    "for i in range(len(select_x1)):\n",
    "    p1 = np.random.randint(2,16)\n",
    "    x1_arr = np.split(select_x1[i], [p1])\n",
    "    x2_arr = np.split(select_x2[i],[p1])\n",
    "    X10_X21 = np.concatenate((x1_arr[0],x2_arr[1]),axis = 0)\n",
    "    X20_X11 = np.concatenate((x2_arr[0],x1_arr[1]),axis = 0)\n",
    "    child.append(X10_X21)\n",
    "    child.append(X20_X11)\n",
    "\n",
    "    \n",
    "    \n"
   ]
  },
  {
   "cell_type": "code",
   "execution_count": 71,
   "metadata": {},
   "outputs": [
    {
     "data": {
      "text/plain": [
       "18"
      ]
     },
     "execution_count": 71,
     "metadata": {},
     "output_type": "execute_result"
    }
   ],
   "source": [
    "len(child)\n",
    "len(X10_X21)"
   ]
  },
  {
   "cell_type": "code",
   "execution_count": 72,
   "metadata": {},
   "outputs": [],
   "source": [
    "\"\"\"Mutation\"\"\"\n",
    "mutated_child = []\n",
    "for i in range(len(child)):\n",
    "    child_mutated = child[i] + np.random.randn(18) * (np.ones([1,18])*1)\n",
    "    #X20_X11_mutated = X20_X11[i] + np.random.randn(18) * (np.ones([1,18])*10)\n",
    "    mutated_child.append(child_mutated)\n",
    "    #mutated_child.append(X20_X11_mutated)"
   ]
  },
  {
   "cell_type": "code",
   "execution_count": null,
   "metadata": {},
   "outputs": [],
   "source": []
  },
  {
   "cell_type": "code",
   "execution_count": 73,
   "metadata": {},
   "outputs": [],
   "source": [
    "#X10_X21_mutated,X10_X21\n",
    "obj_mut=fx(np.concatenate( mutated_child, axis=0 ))\n"
   ]
  },
  {
   "cell_type": "code",
   "execution_count": 75,
   "metadata": {},
   "outputs": [],
   "source": [
    "fx_pred_new,CV=obj_mut"
   ]
  },
  {
   "cell_type": "code",
   "execution_count": 80,
   "metadata": {},
   "outputs": [
    {
     "ename": "TypeError",
     "evalue": "an integer is required (got type list)",
     "output_type": "error",
     "traceback": [
      "\u001b[0;31m---------------------------------------------------------------------------\u001b[0m",
      "\u001b[0;31mTypeError\u001b[0m                                 Traceback (most recent call last)",
      "\u001b[0;32m<ipython-input-80-4e7cb0afb2f1>\u001b[0m in \u001b[0;36m<module>\u001b[0;34m\u001b[0m\n\u001b[0;32m----> 1\u001b[0;31m \u001b[0mnp\u001b[0m\u001b[0;34m.\u001b[0m\u001b[0msort\u001b[0m\u001b[0;34m(\u001b[0m\u001b[0mfx_pred_new\u001b[0m\u001b[0;34m,\u001b[0m\u001b[0mCV\u001b[0m\u001b[0;34m)\u001b[0m\u001b[0;34m\u001b[0m\u001b[0;34m\u001b[0m\u001b[0m\n\u001b[0m",
      "\u001b[0;32m~/anaconda3/lib/python3.7/site-packages/numpy/core/fromnumeric.py\u001b[0m in \u001b[0;36msort\u001b[0;34m(a, axis, kind, order)\u001b[0m\n\u001b[1;32m    932\u001b[0m     \u001b[0;32melse\u001b[0m\u001b[0;34m:\u001b[0m\u001b[0;34m\u001b[0m\u001b[0;34m\u001b[0m\u001b[0m\n\u001b[1;32m    933\u001b[0m         \u001b[0ma\u001b[0m \u001b[0;34m=\u001b[0m \u001b[0masanyarray\u001b[0m\u001b[0;34m(\u001b[0m\u001b[0ma\u001b[0m\u001b[0;34m)\u001b[0m\u001b[0;34m.\u001b[0m\u001b[0mcopy\u001b[0m\u001b[0;34m(\u001b[0m\u001b[0morder\u001b[0m\u001b[0;34m=\u001b[0m\u001b[0;34m\"K\"\u001b[0m\u001b[0;34m)\u001b[0m\u001b[0;34m\u001b[0m\u001b[0;34m\u001b[0m\u001b[0m\n\u001b[0;32m--> 934\u001b[0;31m     \u001b[0ma\u001b[0m\u001b[0;34m.\u001b[0m\u001b[0msort\u001b[0m\u001b[0;34m(\u001b[0m\u001b[0maxis\u001b[0m\u001b[0;34m=\u001b[0m\u001b[0maxis\u001b[0m\u001b[0;34m,\u001b[0m \u001b[0mkind\u001b[0m\u001b[0;34m=\u001b[0m\u001b[0mkind\u001b[0m\u001b[0;34m,\u001b[0m \u001b[0morder\u001b[0m\u001b[0;34m=\u001b[0m\u001b[0morder\u001b[0m\u001b[0;34m)\u001b[0m\u001b[0;34m\u001b[0m\u001b[0;34m\u001b[0m\u001b[0m\n\u001b[0m\u001b[1;32m    935\u001b[0m     \u001b[0;32mreturn\u001b[0m \u001b[0ma\u001b[0m\u001b[0;34m\u001b[0m\u001b[0;34m\u001b[0m\u001b[0m\n\u001b[1;32m    936\u001b[0m \u001b[0;34m\u001b[0m\u001b[0m\n",
      "\u001b[0;31mTypeError\u001b[0m: an integer is required (got type list)"
     ]
    }
   ],
   "source": [
    "np.sort(fx_pred_new,CV)"
   ]
  },
  {
   "cell_type": "code",
   "execution_count": null,
   "metadata": {},
   "outputs": [],
   "source": []
  }
 ],
 "metadata": {
  "kernelspec": {
   "display_name": "Python 3",
   "language": "python",
   "name": "python3"
  },
  "language_info": {
   "codemirror_mode": {
    "name": "ipython",
    "version": 3
   },
   "file_extension": ".py",
   "mimetype": "text/x-python",
   "name": "python",
   "nbconvert_exporter": "python",
   "pygments_lexer": "ipython3",
   "version": "3.7.3"
  }
 },
 "nbformat": 4,
 "nbformat_minor": 2
}
